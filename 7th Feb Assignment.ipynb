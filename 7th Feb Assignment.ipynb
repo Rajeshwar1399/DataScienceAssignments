{
 "cells": [
  {
   "cell_type": "markdown",
   "id": "d4e662c9-bf98-4890-ad1d-2aad1a1b2e1c",
   "metadata": {},
   "source": [
    "### \n",
    "\n",
    "Q1. You are writing code for a company. The requirement of the company is that you create a python\n",
    "function that will check whether the password entered by the user is correct or not. The function should\n",
    "take the password as input and return the string “Valid Password” if the entered password follows the\n",
    "below-given password guidelines else it should return “Invalid Password”.\n",
    "\n",
    "Note: \n",
    "1. The Password should contain at least two uppercase letters and at least two lowercase letters.\n",
    "2. The Password should contain at least a number and three special characters.\n",
    "3. The length of the password should be 10 characters long.\n"
   ]
  },
  {
   "cell_type": "code",
   "execution_count": 92,
   "id": "1daf51ae-a200-402a-a1d8-0edce4043f42",
   "metadata": {},
   "outputs": [],
   "source": [
    "def password_check(password):\n",
    "    l1=[]\n",
    "    l2=[]\n",
    "    l3=[]\n",
    "    l4=[]\n",
    "    if len(password)==10:\n",
    "        for i in password:\n",
    "            if i in ('!@#$%^&*()-+?_=,<>/'):\n",
    "                l4.append(i)\n",
    "            elif i.isnumeric()==True:\n",
    "                l3.append(i)\n",
    "            elif i.isupper()==True:\n",
    "                l1.append(i)\n",
    "            elif i.islower()==True:\n",
    "                l2.append(i)\n",
    "    else:\n",
    "        pass\n",
    "\n",
    "    if len(l2)>=2 and len(l1)>=2 and len(l3)>=1 and len(l4)>=3 and len(password)==10:\n",
    "        a='Valid Password'\n",
    "    else:\n",
    "        a='Invalid Password'\n",
    "    return a\n",
    "    "
   ]
  },
  {
   "cell_type": "code",
   "execution_count": 96,
   "id": "9b2cc571-aff3-4584-a8ff-f6926dc4f1d0",
   "metadata": {},
   "outputs": [
    {
     "data": {
      "text/plain": [
       "'Invalid Password'"
      ]
     },
     "execution_count": 96,
     "metadata": {},
     "output_type": "execute_result"
    }
   ],
   "source": [
    "password_check('RRaa1@#$e')"
   ]
  },
  {
   "cell_type": "code",
   "execution_count": 97,
   "id": "514580a1-1d91-4a73-977f-e0188922c1c6",
   "metadata": {},
   "outputs": [
    {
     "data": {
      "text/plain": [
       "'Valid Password'"
      ]
     },
     "execution_count": 97,
     "metadata": {},
     "output_type": "execute_result"
    }
   ],
   "source": [
    "password_check('RRaa1@#$er')"
   ]
  },
  {
   "cell_type": "markdown",
   "id": "823f147c-5269-43d3-9c4e-6972f4639f3d",
   "metadata": {},
   "source": [
    "Q2. Solve the below-given questions using at least one of the following:\n",
    "1. Lambda function\n",
    "2. Filter function\n",
    "3. Zap function\n",
    "4. List Comprehension\n"
   ]
  },
  {
   "cell_type": "code",
   "execution_count": 110,
   "id": "1e5b7557-a4c8-4593-8bc0-174bfa54f331",
   "metadata": {},
   "outputs": [],
   "source": [
    "#1)\n",
    "s=('Raj','Abhishek')"
   ]
  },
  {
   "cell_type": "code",
   "execution_count": 111,
   "id": "c898bb2f-2d8e-4e23-95d9-d1e09bcccf02",
   "metadata": {},
   "outputs": [],
   "source": [
    "checkstringstart = list(filter(lambda x:x.lower().startswith('a'),s))"
   ]
  },
  {
   "cell_type": "code",
   "execution_count": 112,
   "id": "06a5ca23-9cbc-49c0-a317-bc8a2dc541fa",
   "metadata": {},
   "outputs": [
    {
     "data": {
      "text/plain": [
       "['Abhishek']"
      ]
     },
     "execution_count": 112,
     "metadata": {},
     "output_type": "execute_result"
    }
   ],
   "source": [
    "checkstringstart"
   ]
  },
  {
   "cell_type": "code",
   "execution_count": 118,
   "id": "453516f6-a044-4518-8b5d-4b1f3bf21a69",
   "metadata": {},
   "outputs": [],
   "source": [
    "#2)\n",
    "s1=('11','Hello')"
   ]
  },
  {
   "cell_type": "code",
   "execution_count": 119,
   "id": "cc0e9722-16f1-4092-bfaf-00a0936520de",
   "metadata": {},
   "outputs": [],
   "source": [
    "checknumericstring = list(filter(lambda x:x.isdigit(),s1))"
   ]
  },
  {
   "cell_type": "code",
   "execution_count": 120,
   "id": "1f44669f-6eb7-4162-a981-19ec65dcc724",
   "metadata": {},
   "outputs": [
    {
     "data": {
      "text/plain": [
       "['11']"
      ]
     },
     "execution_count": 120,
     "metadata": {},
     "output_type": "execute_result"
    }
   ],
   "source": [
    "checknumericstring"
   ]
  },
  {
   "cell_type": "code",
   "execution_count": 199,
   "id": "78ddd2dd-e892-4823-bce3-5dc31856b298",
   "metadata": {},
   "outputs": [],
   "source": [
    "#Q3)\n",
    "lst=[(\"mango\",99),(\"orange\",80), (\"grapes\", 1000)]"
   ]
  },
  {
   "cell_type": "code",
   "execution_count": 205,
   "id": "095b3153-bd3c-4ff5-a146-c2e0748afff2",
   "metadata": {},
   "outputs": [],
   "source": [
    "lst.sort(key=lambda x:x[1])"
   ]
  },
  {
   "cell_type": "code",
   "execution_count": 206,
   "id": "d37e2d15-eeaf-42e5-8683-00469d054030",
   "metadata": {},
   "outputs": [
    {
     "data": {
      "text/plain": [
       "[('orange', 80), ('mango', 99), ('grapes', 1000)]"
      ]
     },
     "execution_count": 206,
     "metadata": {},
     "output_type": "execute_result"
    }
   ],
   "source": [
    "lst"
   ]
  },
  {
   "cell_type": "code",
   "execution_count": 207,
   "id": "40e0d4ad-777d-4399-9d78-9437de0fa212",
   "metadata": {},
   "outputs": [],
   "source": [
    "#Q4)\n",
    "\n",
    "l=[x**2 for x in range(1,11)]"
   ]
  },
  {
   "cell_type": "code",
   "execution_count": 208,
   "id": "cf521dcd-53f6-41a7-8f46-8a6cb24ee0f0",
   "metadata": {},
   "outputs": [
    {
     "data": {
      "text/plain": [
       "[1, 4, 9, 16, 25, 36, 49, 64, 81, 100]"
      ]
     },
     "execution_count": 208,
     "metadata": {},
     "output_type": "execute_result"
    }
   ],
   "source": [
    "l"
   ]
  },
  {
   "cell_type": "code",
   "execution_count": 209,
   "id": "a8ba3c44-7808-4c55-942a-bdd20fbdc18b",
   "metadata": {},
   "outputs": [],
   "source": [
    "#Q5)\n",
    "lcube=[x**3 for x in range(1,11)]"
   ]
  },
  {
   "cell_type": "code",
   "execution_count": 210,
   "id": "6f95e841-928b-42e0-b8b8-8fbb16fa7dbb",
   "metadata": {},
   "outputs": [
    {
     "data": {
      "text/plain": [
       "[1, 8, 27, 64, 125, 216, 343, 512, 729, 1000]"
      ]
     },
     "execution_count": 210,
     "metadata": {},
     "output_type": "execute_result"
    }
   ],
   "source": [
    "lcube"
   ]
  },
  {
   "cell_type": "code",
   "execution_count": 212,
   "id": "1ff6785c-b816-4c4c-bbde-b7192016e621",
   "metadata": {},
   "outputs": [],
   "source": [
    "#Q6)\n",
    "a = [1,4,5]"
   ]
  },
  {
   "cell_type": "code",
   "execution_count": 213,
   "id": "710e25e5-40f5-4ed8-8a2f-29deb795a6b8",
   "metadata": {},
   "outputs": [],
   "source": [
    "even = list(filter(lambda x:x%2==0,a))"
   ]
  },
  {
   "cell_type": "code",
   "execution_count": 214,
   "id": "5e8230cf-9d39-4cc7-8caf-b92aff36979f",
   "metadata": {},
   "outputs": [
    {
     "data": {
      "text/plain": [
       "[4]"
      ]
     },
     "execution_count": 214,
     "metadata": {},
     "output_type": "execute_result"
    }
   ],
   "source": [
    "even"
   ]
  },
  {
   "cell_type": "code",
   "execution_count": 215,
   "id": "2ab019b8-14c9-42bd-a041-592473402d75",
   "metadata": {},
   "outputs": [],
   "source": [
    "#Q7)\n",
    "\n",
    "odd=[1,2,3,4,5,6,7,8,9,10]"
   ]
  },
  {
   "cell_type": "code",
   "execution_count": 216,
   "id": "c45319a0-4ed0-458e-8d07-d74368eb674b",
   "metadata": {},
   "outputs": [],
   "source": [
    "oddf=list(filter(lambda x:x%2!=0,odd))"
   ]
  },
  {
   "cell_type": "code",
   "execution_count": 218,
   "id": "02d2f524-0e72-4d24-8d21-2f600cbeea49",
   "metadata": {},
   "outputs": [
    {
     "data": {
      "text/plain": [
       "[1, 3, 5, 7, 9]"
      ]
     },
     "execution_count": 218,
     "metadata": {},
     "output_type": "execute_result"
    }
   ],
   "source": [
    "oddf"
   ]
  },
  {
   "cell_type": "code",
   "execution_count": 219,
   "id": "5a14db1e-57bb-4fc9-9c0c-ba3e905dd26b",
   "metadata": {},
   "outputs": [],
   "source": [
    "#Q8)\n",
    "sortlist= [1,2,3,4,5,6,-1,-2,-3,-4,-5,0]\n",
    "positive=list(filter(lambda x:x>0,sortlist))\n",
    "negative=list(filter(lambda x:x<0,sortlist))"
   ]
  },
  {
   "cell_type": "code",
   "execution_count": 221,
   "id": "46a5dd8e-448d-4d88-b327-5eaa2b2a0035",
   "metadata": {},
   "outputs": [
    {
     "data": {
      "text/plain": [
       "[1, 2, 3, 4, 5, 6]"
      ]
     },
     "execution_count": 221,
     "metadata": {},
     "output_type": "execute_result"
    }
   ],
   "source": [
    "positive"
   ]
  },
  {
   "cell_type": "code",
   "execution_count": 222,
   "id": "e566baf3-f32b-4e8d-af85-a5becd9c3dfa",
   "metadata": {},
   "outputs": [
    {
     "data": {
      "text/plain": [
       "[-1, -2, -3, -4, -5]"
      ]
     },
     "execution_count": 222,
     "metadata": {},
     "output_type": "execute_result"
    }
   ],
   "source": [
    "negative"
   ]
  },
  {
   "cell_type": "code",
   "execution_count": null,
   "id": "cb110dba-c3f7-4a10-888a-a953068bc2d0",
   "metadata": {},
   "outputs": [],
   "source": [
    "    "
   ]
  }
 ],
 "metadata": {
  "kernelspec": {
   "display_name": "Python 3 (ipykernel)",
   "language": "python",
   "name": "python3"
  },
  "language_info": {
   "codemirror_mode": {
    "name": "ipython",
    "version": 3
   },
   "file_extension": ".py",
   "mimetype": "text/x-python",
   "name": "python",
   "nbconvert_exporter": "python",
   "pygments_lexer": "ipython3",
   "version": "3.10.8"
  }
 },
 "nbformat": 4,
 "nbformat_minor": 5
}
