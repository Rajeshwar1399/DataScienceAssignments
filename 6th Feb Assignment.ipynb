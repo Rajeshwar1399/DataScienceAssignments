{
 "cells": [
  {
   "cell_type": "code",
   "execution_count": 231,
   "id": "3f379af3-a59a-4ebd-9311-aad15158e020",
   "metadata": {},
   "outputs": [],
   "source": [
    "#Q1)\n",
    "def test1(*f):\n",
    "    l=[]\n",
    "    for i in list1:\n",
    "        if type(i)==dict:\n",
    "            a=i.items()\n",
    "            b=(list(a))\n",
    "            for c in b:\n",
    "                for d in c:\n",
    "                    if type(d)==int or type(d)==float:\n",
    "                        l.append(d)\n",
    "                    elif type(d)==bool or type(d)==str:\n",
    "                        pass\n",
    "                    elif type(d)==set:\n",
    "                        l.extend(list(d))\n",
    "                    else:\n",
    "                        l.extend(d)\n",
    "        elif type(i)==int or type(i)==float:\n",
    "            l.append(i)\n",
    "        elif type(i)==bool or type(i)==str:\n",
    "            pass\n",
    "        elif type(i)==set:\n",
    "            l.extend(list(i))\n",
    "        else:\n",
    "            l.extend(i)\n",
    "    g=list(filter(lambda x: type(x)==int,l))\n",
    "\n",
    "    from functools import reduce\n",
    "    h = reduce(lambda x,y:x*y,g)\n",
    "    return h\n",
    "    \n",
    "    \n",
    "            \n",
    "            \n",
    "        \n",
    "    "
   ]
  },
  {
   "cell_type": "code",
   "execution_count": 232,
   "id": "f1bd3663-b2f7-4c97-aab5-7f1a96a8b941",
   "metadata": {},
   "outputs": [],
   "source": [
    "list1=[1,2,3,4, [44,55,66, True], False, (34,56,78,89,34), {1,2,3,3,2,1}, {1:34, \"key2\": [55, 67, 78, 89], 4: (45,\n",
    "22, 61, 34)}, [56, 'data science'], 'Machine Learning']"
   ]
  },
  {
   "cell_type": "code",
   "execution_count": 234,
   "id": "e6df4f93-af2c-4dae-bfd0-ef47e4d76436",
   "metadata": {},
   "outputs": [
    {
     "data": {
      "text/plain": [
       "4134711838987085478833841242112000"
      ]
     },
     "execution_count": 234,
     "metadata": {},
     "output_type": "execute_result"
    }
   ],
   "source": [
    "test1(list1)"
   ]
  },
  {
   "cell_type": "code",
   "execution_count": 528,
   "id": "798cfdfa-e455-4682-94bc-c4c2b9740bc5",
   "metadata": {},
   "outputs": [],
   "source": [
    "#Q2)\n",
    "def encryption(name):\n",
    "    s1='abcdefghijklmnopqrstuvwxyz'\n",
    "    s2=s1[::-1]\n",
    "    s3=list(s1)\n",
    "    s4=list(s2)\n",
    "    numlist1=[1,2,3,4,5,6,7,8,9,10,11,12,13,14,15,16,17,18,19,20,21,22,23,24,25,26]\n",
    "    a = list(map(lambda x,y:(x,y),numlist1,s3))\n",
    "    a1=dict(a)\n",
    "    b= list(map(lambda x,y:(x,y),numlist1,s4))\n",
    "    b2=dict(b)\n",
    "    name2=name.lower()\n",
    "    newname=''\n",
    "    for i in range(len(name2)):\n",
    "        if name2[i]==' ':\n",
    "            f = ''+'$'\n",
    "            newname=newname+f\n",
    "        elif name2[i]=='.':\n",
    "            f=''+'.'\n",
    "            newname=newname + f\n",
    "        else:\n",
    "            for j in range(1,27):\n",
    "                if a1[j]==name2[i]:\n",
    "                    f=''+name2.replace(a1[j],b2[j])\n",
    "                    newname = newname + f[i]\n",
    "                else:\n",
    "                    pass\n",
    "    return newname"
   ]
  },
  {
   "cell_type": "code",
   "execution_count": 529,
   "id": "2ad327fc-739f-460d-a498-909535a56362",
   "metadata": {},
   "outputs": [
    {
     "data": {
      "text/plain": [
       "'r$dzmg$gl$yvxlnv$z$wzgz$hxrvmgrhg.'"
      ]
     },
     "execution_count": 529,
     "metadata": {},
     "output_type": "execute_result"
    }
   ],
   "source": [
    "encryption('I want to become a Data Scientist.')"
   ]
  },
  {
   "cell_type": "code",
   "execution_count": null,
   "id": "aa7fe782-a113-4fe1-af7c-608697de46da",
   "metadata": {},
   "outputs": [],
   "source": []
  }
 ],
 "metadata": {
  "kernelspec": {
   "display_name": "Python 3 (ipykernel)",
   "language": "python",
   "name": "python3"
  },
  "language_info": {
   "codemirror_mode": {
    "name": "ipython",
    "version": 3
   },
   "file_extension": ".py",
   "mimetype": "text/x-python",
   "name": "python",
   "nbconvert_exporter": "python",
   "pygments_lexer": "ipython3",
   "version": "3.10.8"
  }
 },
 "nbformat": 4,
 "nbformat_minor": 5
}
