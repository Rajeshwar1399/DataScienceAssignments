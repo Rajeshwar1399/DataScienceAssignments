{
 "cells": [
  {
   "cell_type": "markdown",
   "id": "57acd697-fa48-4433-8839-58c3b7fe0a17",
   "metadata": {},
   "source": [
    "Q1. Which function is used to open a file? What are the different modes of opening a file? Explain each mode\n",
    "of file opening."
   ]
  },
  {
   "cell_type": "markdown",
   "id": "e1110767-9c11-4271-a1b9-866976242de1",
   "metadata": {},
   "source": [
    "Open Function is used to open a File\n",
    "\n",
    "Different Modes of opening a File are\n",
    "\n",
    "1. 'r' - read mode\n",
    "2. 'w' - write mode (overwrite if any file exists or creates a new file')\n",
    "3. 'a' - append mode (appends to the existing file)\n"
   ]
  },
  {
   "cell_type": "markdown",
   "id": "ec60543a-c82a-4bb8-80c2-082d71a6bf74",
   "metadata": {},
   "source": [
    "Q2. Why close() function is used? Why is it important to close a file?"
   ]
  },
  {
   "cell_type": "markdown",
   "id": "2b479428-01a4-4377-bc5d-5a8c8979bf1a",
   "metadata": {},
   "source": [
    "It is necessary to close the file to actually execute the read command"
   ]
  },
  {
   "cell_type": "markdown",
   "id": "5c7e946d-bad7-4ac1-a746-500f02fb52bb",
   "metadata": {},
   "source": [
    "Q3. Write a python program to create a text file. Write ‘I want to become a Data Scientist’ in that file. Then\n",
    "close the file. Open this file and read the content of the file."
   ]
  },
  {
   "cell_type": "code",
   "execution_count": 1,
   "id": "eb34c596-64ee-4088-b2f3-ace6fa1a3529",
   "metadata": {},
   "outputs": [],
   "source": [
    "f= open('Asgn.txt','w')"
   ]
  },
  {
   "cell_type": "code",
   "execution_count": 2,
   "id": "52d737ce-a3eb-4e36-a86e-7c816532f0ed",
   "metadata": {},
   "outputs": [
    {
     "data": {
      "text/plain": [
       "33"
      ]
     },
     "execution_count": 2,
     "metadata": {},
     "output_type": "execute_result"
    }
   ],
   "source": [
    "f.write('I want to become a Data Scientist')"
   ]
  },
  {
   "cell_type": "code",
   "execution_count": 3,
   "id": "75f60972-9e5d-492c-9361-b136e5e15ba0",
   "metadata": {},
   "outputs": [],
   "source": [
    "f.close()"
   ]
  },
  {
   "cell_type": "code",
   "execution_count": 4,
   "id": "29c86739-a8eb-440e-b9d8-136709df6049",
   "metadata": {},
   "outputs": [],
   "source": [
    "f=open('Asgn.txt','r')"
   ]
  },
  {
   "cell_type": "code",
   "execution_count": 5,
   "id": "c06587d7-95fa-4f66-bf1e-9b660c87fc97",
   "metadata": {},
   "outputs": [
    {
     "data": {
      "text/plain": [
       "'I want to become a Data Scientist'"
      ]
     },
     "execution_count": 5,
     "metadata": {},
     "output_type": "execute_result"
    }
   ],
   "source": [
    "f.read()"
   ]
  },
  {
   "cell_type": "markdown",
   "id": "e8441265-2514-4e98-98e6-e1d24195b6c5",
   "metadata": {},
   "source": [
    "Q4. Explain the following with python code: read(), readline() and readlines()."
   ]
  },
  {
   "cell_type": "code",
   "execution_count": 21,
   "id": "dcc4bce9-11f2-47cf-99bd-f3d515d3a0eb",
   "metadata": {},
   "outputs": [],
   "source": [
    "f=open('Readline.txt','w')"
   ]
  },
  {
   "cell_type": "code",
   "execution_count": 22,
   "id": "f83c8799-76a1-43b7-8931-e1af7f752e95",
   "metadata": {},
   "outputs": [
    {
     "data": {
      "text/plain": [
       "39"
      ]
     },
     "execution_count": 22,
     "metadata": {},
     "output_type": "execute_result"
    }
   ],
   "source": [
    "f.write('This is first line.\\nThis is second line')"
   ]
  },
  {
   "cell_type": "code",
   "execution_count": 23,
   "id": "031d3200-415c-46b3-b828-d32880f465f9",
   "metadata": {},
   "outputs": [],
   "source": [
    "f.close()"
   ]
  },
  {
   "cell_type": "code",
   "execution_count": 24,
   "id": "7da287b2-0363-4a79-9dc4-0220d2ddc456",
   "metadata": {},
   "outputs": [],
   "source": [
    "f=open('Readline.txt','r')"
   ]
  },
  {
   "cell_type": "code",
   "execution_count": 25,
   "id": "c6e7362e-0307-45aa-b5e0-492795da7fa8",
   "metadata": {},
   "outputs": [
    {
     "data": {
      "text/plain": [
       "'This is first line.\\n'"
      ]
     },
     "execution_count": 25,
     "metadata": {},
     "output_type": "execute_result"
    }
   ],
   "source": [
    "f.readline()"
   ]
  },
  {
   "cell_type": "code",
   "execution_count": 26,
   "id": "626499f7-d8e1-4320-99e8-d2d36b1bb7d3",
   "metadata": {},
   "outputs": [
    {
     "data": {
      "text/plain": [
       "0"
      ]
     },
     "execution_count": 26,
     "metadata": {},
     "output_type": "execute_result"
    }
   ],
   "source": [
    "f.seek(0)"
   ]
  },
  {
   "cell_type": "code",
   "execution_count": 27,
   "id": "f268d5a9-6864-433e-903d-4435300277d8",
   "metadata": {},
   "outputs": [
    {
     "data": {
      "text/plain": [
       "'This is first line.\\n'"
      ]
     },
     "execution_count": 27,
     "metadata": {},
     "output_type": "execute_result"
    }
   ],
   "source": [
    "f.readline()"
   ]
  },
  {
   "cell_type": "code",
   "execution_count": 28,
   "id": "d81aee1d-1357-435d-8817-4fb0e518e42c",
   "metadata": {},
   "outputs": [
    {
     "data": {
      "text/plain": [
       "'This is second line'"
      ]
     },
     "execution_count": 28,
     "metadata": {},
     "output_type": "execute_result"
    }
   ],
   "source": [
    "f.readline()"
   ]
  },
  {
   "cell_type": "code",
   "execution_count": 29,
   "id": "65a4b030-f7ce-48a6-a69a-331a806c2991",
   "metadata": {},
   "outputs": [
    {
     "data": {
      "text/plain": [
       "''"
      ]
     },
     "execution_count": 29,
     "metadata": {},
     "output_type": "execute_result"
    }
   ],
   "source": [
    "f.readline()"
   ]
  },
  {
   "cell_type": "code",
   "execution_count": 30,
   "id": "7a1d964b-13ad-420a-9c82-f1e016881bd4",
   "metadata": {},
   "outputs": [
    {
     "data": {
      "text/plain": [
       "0"
      ]
     },
     "execution_count": 30,
     "metadata": {},
     "output_type": "execute_result"
    }
   ],
   "source": [
    "f.seek(0)"
   ]
  },
  {
   "cell_type": "code",
   "execution_count": 31,
   "id": "bbf617e1-8681-4f1e-9160-5b8676eeaa74",
   "metadata": {},
   "outputs": [
    {
     "data": {
      "text/plain": [
       "['This is first line.\\n', 'This is second line']"
      ]
     },
     "execution_count": 31,
     "metadata": {},
     "output_type": "execute_result"
    }
   ],
   "source": [
    "f.readlines()"
   ]
  },
  {
   "cell_type": "code",
   "execution_count": 32,
   "id": "0e548bbe-4bf4-4b28-8505-feaa4d03c524",
   "metadata": {},
   "outputs": [
    {
     "data": {
      "text/plain": [
       "[]"
      ]
     },
     "execution_count": 32,
     "metadata": {},
     "output_type": "execute_result"
    }
   ],
   "source": [
    "f.readlines()"
   ]
  },
  {
   "cell_type": "code",
   "execution_count": 33,
   "id": "a35a46f2-8733-4fee-9a38-0e77c1698bd1",
   "metadata": {},
   "outputs": [
    {
     "data": {
      "text/plain": [
       "0"
      ]
     },
     "execution_count": 33,
     "metadata": {},
     "output_type": "execute_result"
    }
   ],
   "source": [
    "f.seek(0)"
   ]
  },
  {
   "cell_type": "code",
   "execution_count": 34,
   "id": "2b1e3134-fad9-4552-927d-69b92ee1bd8b",
   "metadata": {},
   "outputs": [
    {
     "data": {
      "text/plain": [
       "'This is first line.\\nThis is second line'"
      ]
     },
     "execution_count": 34,
     "metadata": {},
     "output_type": "execute_result"
    }
   ],
   "source": [
    "f.read()"
   ]
  },
  {
   "cell_type": "code",
   "execution_count": 37,
   "id": "d94aaa30-3173-48da-846e-43512be65905",
   "metadata": {},
   "outputs": [
    {
     "data": {
      "text/plain": [
       "0"
      ]
     },
     "execution_count": 37,
     "metadata": {},
     "output_type": "execute_result"
    }
   ],
   "source": [
    "f.seek(0)"
   ]
  },
  {
   "cell_type": "code",
   "execution_count": 38,
   "id": "f36982cc-fd34-4d39-adad-b20b82536f79",
   "metadata": {},
   "outputs": [
    {
     "data": {
      "text/plain": [
       "['This is first line.\\n']"
      ]
     },
     "execution_count": 38,
     "metadata": {},
     "output_type": "execute_result"
    }
   ],
   "source": [
    "f.readlines(2)"
   ]
  },
  {
   "cell_type": "markdown",
   "id": "2ef7f50b-f00c-4814-90f7-a65ea6ce7bb6",
   "metadata": {},
   "source": [
    "Q6. Explain the write() and writelines() functions. Give a suitable example."
   ]
  },
  {
   "cell_type": "code",
   "execution_count": 68,
   "id": "313437ba-dc7e-4a6c-8905-e205e7660c2c",
   "metadata": {},
   "outputs": [
    {
     "ename": "TypeError",
     "evalue": "write() argument must be str, not list",
     "output_type": "error",
     "traceback": [
      "\u001b[0;31m---------------------------------------------------------------------------\u001b[0m",
      "\u001b[0;31mTypeError\u001b[0m                                 Traceback (most recent call last)",
      "Cell \u001b[0;32mIn[68], line 4\u001b[0m\n\u001b[1;32m      1\u001b[0m list1\u001b[38;5;241m=\u001b[39m[\u001b[38;5;124m'\u001b[39m\u001b[38;5;124mHello\u001b[39m\u001b[38;5;124m'\u001b[39m,\u001b[38;5;124m'\u001b[39m\u001b[38;5;124mThis is new\u001b[39m\u001b[38;5;124m'\u001b[39m]\n\u001b[1;32m      3\u001b[0m \u001b[38;5;28;01mwith\u001b[39;00m \u001b[38;5;28mopen\u001b[39m(\u001b[38;5;124m'\u001b[39m\u001b[38;5;124mwritelinesex1.txt\u001b[39m\u001b[38;5;124m'\u001b[39m,\u001b[38;5;124m'\u001b[39m\u001b[38;5;124mw\u001b[39m\u001b[38;5;124m'\u001b[39m) \u001b[38;5;28;01mas\u001b[39;00m f:\n\u001b[0;32m----> 4\u001b[0m     \u001b[43mf\u001b[49m\u001b[38;5;241;43m.\u001b[39;49m\u001b[43mwrite\u001b[49m\u001b[43m(\u001b[49m\u001b[43mlist1\u001b[49m\u001b[43m)\u001b[49m\n",
      "\u001b[0;31mTypeError\u001b[0m: write() argument must be str, not list"
     ]
    }
   ],
   "source": [
    "list1=['Hello','This is new']\n",
    "\n",
    "with open('writelinesex1.txt','w') as f:\n",
    "    f.write(list1)"
   ]
  },
  {
   "cell_type": "code",
   "execution_count": 69,
   "id": "d176f5cf-656e-41ff-b3db-93b0450bf54a",
   "metadata": {},
   "outputs": [],
   "source": [
    "list1=['Hello','This is new']\n",
    "\n",
    "with open('writelinesex2.txt','w') as f:\n",
    "    f.writelines(list1)"
   ]
  },
  {
   "cell_type": "code",
   "execution_count": null,
   "id": "0dfa63ae-df8c-45fc-bb6f-880c08c789f1",
   "metadata": {},
   "outputs": [],
   "source": []
  }
 ],
 "metadata": {
  "kernelspec": {
   "display_name": "Python 3 (ipykernel)",
   "language": "python",
   "name": "python3"
  },
  "language_info": {
   "codemirror_mode": {
    "name": "ipython",
    "version": 3
   },
   "file_extension": ".py",
   "mimetype": "text/x-python",
   "name": "python",
   "nbconvert_exporter": "python",
   "pygments_lexer": "ipython3",
   "version": "3.10.8"
  }
 },
 "nbformat": 4,
 "nbformat_minor": 5
}
