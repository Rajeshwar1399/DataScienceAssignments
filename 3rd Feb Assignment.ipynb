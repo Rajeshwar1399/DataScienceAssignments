{
 "cells": [
  {
   "cell_type": "code",
   "execution_count": 11,
   "id": "fa6a2eec-9f31-4c68-906d-c81ae1fd3275",
   "metadata": {},
   "outputs": [],
   "source": [
    "#Q1)\n",
    "## Def keyword is used to create a function\n",
    "\n",
    "def odd_number():\n",
    "    l=[]\n",
    "    for i in range(1,26):\n",
    "        if i%2 !=0:\n",
    "            l.append(i)\n",
    "    return l"
   ]
  },
  {
   "cell_type": "code",
   "execution_count": 12,
   "id": "6c21fbe3-1f99-4f41-a00a-0d1f3702ee5d",
   "metadata": {},
   "outputs": [
    {
     "data": {
      "text/plain": [
       "[1, 3, 5, 7, 9, 11, 13, 15, 17, 19, 21, 23, 25]"
      ]
     },
     "execution_count": 12,
     "metadata": {},
     "output_type": "execute_result"
    }
   ],
   "source": [
    "odd_number()"
   ]
  },
  {
   "cell_type": "code",
   "execution_count": 13,
   "id": "8bd7a241-2da1-4617-9787-29ed5522d465",
   "metadata": {},
   "outputs": [],
   "source": [
    "#Q2) *args is used to pass n number of arguments in a function\n",
    "#    **kwargs is used to pass key-value arguments"
   ]
  },
  {
   "cell_type": "code",
   "execution_count": 14,
   "id": "0e19310c-5abe-483f-bf44-76bf51f13883",
   "metadata": {},
   "outputs": [],
   "source": [
    "#Args example\n",
    "def name(*args):\n",
    "    c = ''\n",
    "    for i in args:\n",
    "        c=c+i\n",
    "        \n",
    "    return c"
   ]
  },
  {
   "cell_type": "code",
   "execution_count": 15,
   "id": "e3c70584-5c49-43b6-b528-1ff3f11dcb47",
   "metadata": {},
   "outputs": [
    {
     "data": {
      "text/plain": [
       "'RajeshwarBusa'"
      ]
     },
     "execution_count": 15,
     "metadata": {},
     "output_type": "execute_result"
    }
   ],
   "source": [
    "name('Rajeshwar','Busa')"
   ]
  },
  {
   "cell_type": "code",
   "execution_count": 16,
   "id": "dbf0df17-0dc3-404e-91a5-b239baaa52da",
   "metadata": {},
   "outputs": [],
   "source": [
    "##kwargs example\n",
    "\n",
    "def test2(**kwargs):\n",
    "          return kwargs"
   ]
  },
  {
   "cell_type": "code",
   "execution_count": 17,
   "id": "2c94999b-9d62-49f9-8c1b-c55e6ce88086",
   "metadata": {},
   "outputs": [
    {
     "data": {
      "text/plain": [
       "{'a': 1, 'b': 2}"
      ]
     },
     "execution_count": 17,
     "metadata": {},
     "output_type": "execute_result"
    }
   ],
   "source": [
    "test2(a=1,b=2)"
   ]
  },
  {
   "cell_type": "code",
   "execution_count": 18,
   "id": "ce58bb3a-d1b4-4c8e-b014-46cc2d3b02fa",
   "metadata": {},
   "outputs": [],
   "source": [
    "#Q4)\n",
    "\n",
    "## A Generator in Python is a function that returns an iterator using the Yield keyword.\n",
    "\n",
    "def gen(a,b):\n",
    "    yield a,b"
   ]
  },
  {
   "cell_type": "code",
   "execution_count": 19,
   "id": "7ea5b5a8-1dcc-4c34-8521-2ca20a08f9a5",
   "metadata": {},
   "outputs": [
    {
     "data": {
      "text/plain": [
       "<generator object gen at 0x7fdaadb2dfc0>"
      ]
     },
     "execution_count": 19,
     "metadata": {},
     "output_type": "execute_result"
    }
   ],
   "source": [
    "gen(1,2)"
   ]
  },
  {
   "cell_type": "code",
   "execution_count": 20,
   "id": "f9a3e743-7f93-440f-9ff8-b8077641fffd",
   "metadata": {},
   "outputs": [
    {
     "name": "stdout",
     "output_type": "stream",
     "text": [
      "(1, 2)\n"
     ]
    }
   ],
   "source": [
    "for i in gen(1,2):\n",
    "    print(i)"
   ]
  },
  {
   "cell_type": "code",
   "execution_count": 109,
   "id": "336323cd-f34f-4137-a42e-80c820140b96",
   "metadata": {},
   "outputs": [],
   "source": [
    "#Q5)\n",
    "\n",
    "def prime():\n",
    "    l=[]\n",
    "    for i in range(2,1001):\n",
    "        r=[]\n",
    "        for j in range(2,i):\n",
    "            x=i%j\n",
    "            r.append(x)\n",
    "        if all(r)==True:\n",
    "            l.append(i)\n",
    "            \n",
    "    k = iter(l)\n",
    "    for c in range(1,21):\n",
    "        print (next(k))"
   ]
  },
  {
   "cell_type": "code",
   "execution_count": 110,
   "id": "27ebdc32-8c37-46c3-98d7-c4f132f28fa4",
   "metadata": {},
   "outputs": [
    {
     "name": "stdout",
     "output_type": "stream",
     "text": [
      "2\n",
      "3\n",
      "5\n",
      "7\n",
      "11\n",
      "13\n",
      "17\n",
      "19\n",
      "23\n",
      "29\n",
      "31\n",
      "37\n",
      "41\n",
      "43\n",
      "47\n",
      "53\n",
      "59\n",
      "61\n",
      "67\n",
      "71\n"
     ]
    }
   ],
   "source": [
    "prime()"
   ]
  },
  {
   "cell_type": "code",
   "execution_count": null,
   "id": "c5d4d51b-acef-4c24-a419-db9a0da1195a",
   "metadata": {},
   "outputs": [],
   "source": []
  },
  {
   "cell_type": "code",
   "execution_count": null,
   "id": "7da3584a-8ad0-4a50-9b27-615375951089",
   "metadata": {},
   "outputs": [],
   "source": []
  }
 ],
 "metadata": {
  "kernelspec": {
   "display_name": "Python 3 (ipykernel)",
   "language": "python",
   "name": "python3"
  },
  "language_info": {
   "codemirror_mode": {
    "name": "ipython",
    "version": 3
   },
   "file_extension": ".py",
   "mimetype": "text/x-python",
   "name": "python",
   "nbconvert_exporter": "python",
   "pygments_lexer": "ipython3",
   "version": "3.10.8"
  }
 },
 "nbformat": 4,
 "nbformat_minor": 5
}
