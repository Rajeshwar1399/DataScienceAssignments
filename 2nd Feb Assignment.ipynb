{
 "cells": [
  {
   "cell_type": "markdown",
   "id": "cc96e44c-1d21-4c91-babe-67119b611505",
   "metadata": {},
   "source": [
    "### Characterisctics of Tuple"
   ]
  },
  {
   "cell_type": "code",
   "execution_count": 2,
   "id": "572b2f44-75ca-4615-81a7-89f4b144887e",
   "metadata": {},
   "outputs": [],
   "source": [
    "##Q1)\n",
    "#1. Tuples are immutable.\n",
    "#2. Tuples support indexing and slicing\n",
    "#3. Tuples have only 2 inbuilt function"
   ]
  },
  {
   "cell_type": "code",
   "execution_count": 3,
   "id": "05287f15-138b-48e7-a961-5c3dc6a4f975",
   "metadata": {},
   "outputs": [],
   "source": [
    "## Q2)\n",
    "\n",
    "## The two tuple methods are .count() and index()"
   ]
  },
  {
   "cell_type": "code",
   "execution_count": 1,
   "id": "f6be17d3-564a-4307-84cb-0868dfb5f015",
   "metadata": {},
   "outputs": [],
   "source": [
    "## Example of .count()\n",
    "## It gives count of occurrences of the element passed in it.\n",
    "\n",
    "t = (1,2,3,4,5,6,6,7)"
   ]
  },
  {
   "cell_type": "code",
   "execution_count": 2,
   "id": "8d269427-ca1a-4785-8444-69b02718439c",
   "metadata": {},
   "outputs": [
    {
     "data": {
      "text/plain": [
       "2"
      ]
     },
     "execution_count": 2,
     "metadata": {},
     "output_type": "execute_result"
    }
   ],
   "source": [
    "t.count(6)"
   ]
  },
  {
   "cell_type": "code",
   "execution_count": 3,
   "id": "eacc09b5-85db-4fa1-8812-0113cd7fc686",
   "metadata": {},
   "outputs": [
    {
     "data": {
      "text/plain": [
       "5"
      ]
     },
     "execution_count": 3,
     "metadata": {},
     "output_type": "execute_result"
    }
   ],
   "source": [
    "## Example of .index()\n",
    "## It gives the index of first occurrence of the element passed.\n",
    "t.index(6)"
   ]
  },
  {
   "cell_type": "code",
   "execution_count": 4,
   "id": "ee013ede-f96c-4e57-a15c-ee07abe0fe28",
   "metadata": {},
   "outputs": [],
   "source": [
    "## Q3)\n",
    "## Set do not allow duplicate items\n",
    "\n",
    "List = [1, 1, 1, 2, 1, 3, 1, 4, 2, 1, 2, 2, 2, 3, 2, 4, 3, 1, 3, 2, 3, 3, 3, 4, 4, 1, 4, 2, 4, 3, 4, 4]\n"
   ]
  },
  {
   "cell_type": "code",
   "execution_count": 5,
   "id": "130ef654-c756-4d21-912f-70573c0e11e7",
   "metadata": {},
   "outputs": [
    {
     "data": {
      "text/plain": [
       "{1, 2, 3, 4}"
      ]
     },
     "execution_count": 5,
     "metadata": {},
     "output_type": "execute_result"
    }
   ],
   "source": [
    "set(List)"
   ]
  },
  {
   "cell_type": "code",
   "execution_count": 6,
   "id": "38551987-0e3a-41e6-9180-a098ec9d1c85",
   "metadata": {},
   "outputs": [],
   "source": [
    "## Q4)\n",
    "\"\"\"\n",
    "Union combines the two sets but does not change either of them whereas update changes the set itsel\n",
    "\n",
    "\"\"\"\n",
    "set1 = {1,5,6,7}\n",
    "set2 = {12,13,14,15}"
   ]
  },
  {
   "cell_type": "code",
   "execution_count": 7,
   "id": "a19d6ec8-b0ff-4d84-b8b9-0ad8f52bad2c",
   "metadata": {},
   "outputs": [
    {
     "data": {
      "text/plain": [
       "{1, 5, 6, 7, 12, 13, 14, 15}"
      ]
     },
     "execution_count": 7,
     "metadata": {},
     "output_type": "execute_result"
    }
   ],
   "source": [
    "set1.union(set2)"
   ]
  },
  {
   "cell_type": "code",
   "execution_count": 8,
   "id": "eb2194d9-294e-4cd9-ab88-159b7df37d09",
   "metadata": {},
   "outputs": [],
   "source": [
    "set1.update(set2)"
   ]
  },
  {
   "cell_type": "code",
   "execution_count": 9,
   "id": "2ebd62bb-559d-479f-a478-e3d641b217c4",
   "metadata": {},
   "outputs": [
    {
     "data": {
      "text/plain": [
       "{1, 5, 6, 7, 12, 13, 14, 15}"
      ]
     },
     "execution_count": 9,
     "metadata": {},
     "output_type": "execute_result"
    }
   ],
   "source": [
    "set1"
   ]
  },
  {
   "cell_type": "code",
   "execution_count": 10,
   "id": "600f0ea4-ea1d-4be2-aa25-83bd7d5199bd",
   "metadata": {},
   "outputs": [
    {
     "data": {
      "text/plain": [
       "{12, 13, 14, 15}"
      ]
     },
     "execution_count": 10,
     "metadata": {},
     "output_type": "execute_result"
    }
   ],
   "source": [
    "set2"
   ]
  },
  {
   "cell_type": "code",
   "execution_count": 11,
   "id": "d5fa8eda-2a3e-4da0-a7f6-194af2830907",
   "metadata": {},
   "outputs": [],
   "source": [
    "## Q5)\n",
    "# Dictionary is unordered collection of elements in key-value pairs"
   ]
  },
  {
   "cell_type": "code",
   "execution_count": 19,
   "id": "1257fdc5-6b50-40e6-951e-02a48cbc5815",
   "metadata": {},
   "outputs": [],
   "source": [
    "## Q6)\n",
    "\n",
    "## Yes dictionaries can be nested\n",
    "d = {\"name\":'e', \"f\":{\"e\":2}}"
   ]
  },
  {
   "cell_type": "code",
   "execution_count": 20,
   "id": "882f5224-3ed2-4812-a37e-f20e5ef23605",
   "metadata": {},
   "outputs": [
    {
     "data": {
      "text/plain": [
       "{'name': 'e', 'f': {'e': 2}}"
      ]
     },
     "execution_count": 20,
     "metadata": {},
     "output_type": "execute_result"
    }
   ],
   "source": [
    "d"
   ]
  },
  {
   "cell_type": "code",
   "execution_count": 34,
   "id": "2dd911a1-ca81-49ec-8030-ab56ea43fbb8",
   "metadata": {},
   "outputs": [],
   "source": [
    "## Q7)\n",
    "dict1 = {'language':'Python','course':'Data Science Masters'}"
   ]
  },
  {
   "cell_type": "code",
   "execution_count": 35,
   "id": "834e4637-9d62-4806-b62e-aa3fed7d7db6",
   "metadata": {},
   "outputs": [
    {
     "data": {
      "text/plain": [
       "['Python', 'Machine Learning', 'Deep Learning']"
      ]
     },
     "execution_count": 35,
     "metadata": {},
     "output_type": "execute_result"
    }
   ],
   "source": [
    "dict1.setdefault('Topics',['Python','Machine Learning','Deep Learning'])"
   ]
  },
  {
   "cell_type": "code",
   "execution_count": 36,
   "id": "cdfb23c9-0b13-4f1c-b8c6-17f53cd0c2c0",
   "metadata": {},
   "outputs": [
    {
     "data": {
      "text/plain": [
       "{'language': 'Python',\n",
       " 'course': 'Data Science Masters',\n",
       " 'Topics': ['Python', 'Machine Learning', 'Deep Learning']}"
      ]
     },
     "execution_count": 36,
     "metadata": {},
     "output_type": "execute_result"
    }
   ],
   "source": [
    "dict1"
   ]
  },
  {
   "cell_type": "code",
   "execution_count": 37,
   "id": "10d82cbe-80de-440c-ac6d-94bff09b23ad",
   "metadata": {},
   "outputs": [],
   "source": [
    "## Q8)\n",
    "\n",
    "dict2 = {'Sport': 'Cricket' , 'Teams': ['India', 'Australia', 'England', 'South Africa', 'Sri Lanka', 'New Zealand']}"
   ]
  },
  {
   "cell_type": "code",
   "execution_count": 38,
   "id": "01d4075d-2b0a-46a6-b430-e0aaed6f14e9",
   "metadata": {},
   "outputs": [
    {
     "data": {
      "text/plain": [
       "dict_items([('Sport', 'Cricket'), ('Teams', ['India', 'Australia', 'England', 'South Africa', 'Sri Lanka', 'New Zealand'])])"
      ]
     },
     "execution_count": 38,
     "metadata": {},
     "output_type": "execute_result"
    }
   ],
   "source": [
    "#a).item()\n",
    "dict2.items()"
   ]
  },
  {
   "cell_type": "code",
   "execution_count": 39,
   "id": "824f55ee-d429-4fd3-97c7-9f7964d24e02",
   "metadata": {},
   "outputs": [
    {
     "data": {
      "text/plain": [
       "dict_values(['Cricket', ['India', 'Australia', 'England', 'South Africa', 'Sri Lanka', 'New Zealand']])"
      ]
     },
     "execution_count": 39,
     "metadata": {},
     "output_type": "execute_result"
    }
   ],
   "source": [
    "#b).values()\n",
    "\n",
    "dict2.values()"
   ]
  },
  {
   "cell_type": "code",
   "execution_count": 40,
   "id": "be50cb33-bfdd-4ead-bc6b-84c6ec5baaa7",
   "metadata": {},
   "outputs": [
    {
     "data": {
      "text/plain": [
       "dict_keys(['Sport', 'Teams'])"
      ]
     },
     "execution_count": 40,
     "metadata": {},
     "output_type": "execute_result"
    }
   ],
   "source": [
    "#c). Keys()\n",
    "\n",
    "dict2.keys()"
   ]
  },
  {
   "cell_type": "code",
   "execution_count": null,
   "id": "a1e9e63c-05d5-4bd2-8420-4c17fb8eb6b0",
   "metadata": {},
   "outputs": [],
   "source": []
  }
 ],
 "metadata": {
  "kernelspec": {
   "display_name": "Python 3 (ipykernel)",
   "language": "python",
   "name": "python3"
  },
  "language_info": {
   "codemirror_mode": {
    "name": "ipython",
    "version": 3
   },
   "file_extension": ".py",
   "mimetype": "text/x-python",
   "name": "python",
   "nbconvert_exporter": "python",
   "pygments_lexer": "ipython3",
   "version": "3.10.8"
  }
 },
 "nbformat": 4,
 "nbformat_minor": 5
}
