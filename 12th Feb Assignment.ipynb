{
 "cells": [
  {
   "cell_type": "markdown",
   "id": "93dd11f8-c721-48d1-8c56-5c645f0a9e4f",
   "metadata": {},
   "source": [
    "Q2. What Happens when an Exception is not handled properly?.Explain with example"
   ]
  },
  {
   "cell_type": "markdown",
   "id": "58c76516-0690-4f04-9b71-4960fdcb0fe8",
   "metadata": {},
   "source": [
    "If an exception is not handled properly, it will not execute the further code written in the block"
   ]
  },
  {
   "cell_type": "code",
   "execution_count": 2,
   "id": "e77ce346-e552-4589-94fd-8ec61eaae97d",
   "metadata": {},
   "outputs": [
    {
     "ename": "ZeroDivisionError",
     "evalue": "division by zero",
     "output_type": "error",
     "traceback": [
      "\u001b[0;31m---------------------------------------------------------------------------\u001b[0m",
      "\u001b[0;31mZeroDivisionError\u001b[0m                         Traceback (most recent call last)",
      "Cell \u001b[0;32mIn[2], line 3\u001b[0m\n\u001b[1;32m      1\u001b[0m \u001b[38;5;66;03m## For example\u001b[39;00m\n\u001b[1;32m      2\u001b[0m a\u001b[38;5;241m=\u001b[39m\u001b[38;5;241m10\u001b[39m\n\u001b[0;32m----> 3\u001b[0m \u001b[43ma\u001b[49m\u001b[38;5;241;43m/\u001b[39;49m\u001b[38;5;241;43m0\u001b[39;49m\n\u001b[1;32m      5\u001b[0m \u001b[38;5;28mprint\u001b[39m(\u001b[38;5;124m'\u001b[39m\u001b[38;5;124mHello\u001b[39m\u001b[38;5;124m'\u001b[39m)\n",
      "\u001b[0;31mZeroDivisionError\u001b[0m: division by zero"
     ]
    }
   ],
   "source": [
    "## For example\n",
    "a=10\n",
    "a/0\n",
    "\n",
    "print('Hello')"
   ]
  },
  {
   "cell_type": "markdown",
   "id": "72f04fce-bd49-4c22-a7e5-85341ad676d7",
   "metadata": {},
   "source": [
    "Q3. Which Python statements are used to catch and handle exceptions? Explain with an example."
   ]
  },
  {
   "cell_type": "markdown",
   "id": "0885951c-5782-46de-95c9-7689273123ab",
   "metadata": {},
   "source": [
    "Try, except "
   ]
  },
  {
   "cell_type": "code",
   "execution_count": 3,
   "id": "66c45644-22d4-4861-bcd4-86ffbfb3ae85",
   "metadata": {},
   "outputs": [
    {
     "name": "stdout",
     "output_type": "stream",
     "text": [
      "division by zero\n"
     ]
    }
   ],
   "source": [
    "## For example:\n",
    "\n",
    "try:\n",
    "    a=10\n",
    "    a/0\n",
    "except Exception as e:\n",
    "    print(e)"
   ]
  },
  {
   "cell_type": "markdown",
   "id": "6b926007-3ef9-4278-9ffd-234e546d253a",
   "metadata": {},
   "source": [
    "Q4. Explain with Example"
   ]
  },
  {
   "cell_type": "code",
   "execution_count": 5,
   "id": "7133d1f7-5be7-464d-8870-69d0dac75980",
   "metadata": {},
   "outputs": [
    {
     "name": "stdout",
     "output_type": "stream",
     "text": [
      "5.0\n"
     ]
    }
   ],
   "source": [
    "#Try and else\n",
    "\n",
    "try:\n",
    "    a=10\n",
    "    b=a/2\n",
    "except Exception as e:\n",
    "    print(e)\n",
    "else:\n",
    "    print(b)"
   ]
  },
  {
   "cell_type": "code",
   "execution_count": 6,
   "id": "744b936b-6ee7-42c8-9c0e-7981575cb1b6",
   "metadata": {},
   "outputs": [
    {
     "name": "stdout",
     "output_type": "stream",
     "text": [
      "10\n"
     ]
    },
    {
     "ename": "ZeroDivisionError",
     "evalue": "division by zero",
     "output_type": "error",
     "traceback": [
      "\u001b[0;31m---------------------------------------------------------------------------\u001b[0m",
      "\u001b[0;31mZeroDivisionError\u001b[0m                         Traceback (most recent call last)",
      "Cell \u001b[0;32mIn[6], line 5\u001b[0m\n\u001b[1;32m      3\u001b[0m \u001b[38;5;28;01mtry\u001b[39;00m:\n\u001b[1;32m      4\u001b[0m     a\u001b[38;5;241m=\u001b[39m\u001b[38;5;241m10\u001b[39m\n\u001b[0;32m----> 5\u001b[0m     \u001b[43ma\u001b[49m\u001b[38;5;241;43m/\u001b[39;49m\u001b[38;5;241;43m0\u001b[39;49m\n\u001b[1;32m      6\u001b[0m \u001b[38;5;28;01mfinally\u001b[39;00m:\n\u001b[1;32m      7\u001b[0m     \u001b[38;5;28mprint\u001b[39m(a)\n",
      "\u001b[0;31mZeroDivisionError\u001b[0m: division by zero"
     ]
    }
   ],
   "source": [
    "# Finally\n",
    "\n",
    "try:\n",
    "    a=10\n",
    "    a/0\n",
    "finally:\n",
    "    print(a)"
   ]
  },
  {
   "cell_type": "code",
   "execution_count": 7,
   "id": "c4d4e99d-d142-4260-81c5-80fb4659632d",
   "metadata": {},
   "outputs": [],
   "source": [
    "# raise\n",
    "\n",
    "class zerodiv(Exception):\n",
    "    def __init__(self,msg):\n",
    "        self.msg=msg"
   ]
  },
  {
   "cell_type": "code",
   "execution_count": 8,
   "id": "9a1b83c9-3409-46eb-b4dc-fac70d89186b",
   "metadata": {},
   "outputs": [],
   "source": [
    "def zero_div(a,b):\n",
    "    if b==0:\n",
    "        raise zerodiv(\"Denominator cannot be zero\")\n",
    "    else:\n",
    "        print(\"It's okay\")"
   ]
  },
  {
   "cell_type": "code",
   "execution_count": 9,
   "id": "ac3951b9-9b73-42de-8bc0-3071763c0468",
   "metadata": {},
   "outputs": [
    {
     "name": "stdin",
     "output_type": "stream",
     "text": [
      "Enter the numerator 3\n",
      "Enter the denominator 0\n"
     ]
    },
    {
     "name": "stdout",
     "output_type": "stream",
     "text": [
      "Denominator cannot be zero\n"
     ]
    }
   ],
   "source": [
    "try:\n",
    "    a=int(input('Enter the numerator'))\n",
    "    b=int(input('Enter the denominator'))\n",
    "    zero_div(a,b)\n",
    "except zerodiv as e:\n",
    "    print(e)"
   ]
  },
  {
   "cell_type": "markdown",
   "id": "4b57ce66-a35f-472b-bbbd-409f00472a47",
   "metadata": {},
   "source": [
    "Q5. What are custom Exceptions in Python?.Why do we need Custom Exceptions? Explain with Example."
   ]
  },
  {
   "cell_type": "markdown",
   "id": "ab4bc24c-ee4a-475b-afa6-9e52fdd7e384",
   "metadata": {},
   "source": [
    "Sometimes there would be few errors which system could not interpret as error such as negative age.Hence in such cases we need to create our own custom exceptions."
   ]
  },
  {
   "cell_type": "markdown",
   "id": "51dfee07-a94b-4e53-aabe-93638fbbcbbc",
   "metadata": {},
   "source": [
    "Q6. Create a Custom Exception class. Use this class to handle an Exception"
   ]
  },
  {
   "cell_type": "code",
   "execution_count": 10,
   "id": "ab667c65-6e34-4262-a250-b4e1840398dc",
   "metadata": {},
   "outputs": [],
   "source": [
    "class zerodiv(Exception):\n",
    "    def __init__(self,msg):\n",
    "        self.msg=msg"
   ]
  },
  {
   "cell_type": "code",
   "execution_count": 11,
   "id": "a10a89ad-624a-48be-904d-3327aef8b2d5",
   "metadata": {},
   "outputs": [],
   "source": [
    "def zero_div(a,b):\n",
    "    if b==0:\n",
    "        raise zerodiv(\"Denominator cannot be zero\")\n",
    "    else:\n",
    "        print(\"It's okay\")"
   ]
  },
  {
   "cell_type": "code",
   "execution_count": 12,
   "id": "a2a58e4c-5ce2-41e9-8f69-02df449b9702",
   "metadata": {},
   "outputs": [
    {
     "name": "stdin",
     "output_type": "stream",
     "text": [
      "Enter the numerator 2\n",
      "Enter the denominator 0\n"
     ]
    },
    {
     "name": "stdout",
     "output_type": "stream",
     "text": [
      "Denominator cannot be zero\n"
     ]
    }
   ],
   "source": [
    "try:\n",
    "    a=int(input('Enter the numerator'))\n",
    "    b=int(input('Enter the denominator'))\n",
    "    zero_div(a,b)\n",
    "except zerodiv as e:\n",
    "    print(e)"
   ]
  },
  {
   "cell_type": "code",
   "execution_count": null,
   "id": "feb57c6f-0016-442e-b4e9-b75e6c44e61e",
   "metadata": {},
   "outputs": [],
   "source": []
  }
 ],
 "metadata": {
  "kernelspec": {
   "display_name": "Python 3 (ipykernel)",
   "language": "python",
   "name": "python3"
  },
  "language_info": {
   "codemirror_mode": {
    "name": "ipython",
    "version": 3
   },
   "file_extension": ".py",
   "mimetype": "text/x-python",
   "name": "python",
   "nbconvert_exporter": "python",
   "pygments_lexer": "ipython3",
   "version": "3.10.8"
  }
 },
 "nbformat": 4,
 "nbformat_minor": 5
}
