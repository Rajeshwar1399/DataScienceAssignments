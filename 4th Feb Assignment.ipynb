{
 "cells": [
  {
   "cell_type": "code",
   "execution_count": 10,
   "id": "ecb4b676-0b76-4c14-b60f-91a9ebb43ed6",
   "metadata": {},
   "outputs": [],
   "source": [
    "#Q2) \n",
    "l=[1, 2, 3, 4, 5, 6, 7, 8, 9, 10]"
   ]
  },
  {
   "cell_type": "code",
   "execution_count": 11,
   "id": "0e23211e-796b-4dcd-8dcc-b7b4db6e6bb2",
   "metadata": {},
   "outputs": [
    {
     "data": {
      "text/plain": [
       "[1, 4, 9, 16, 25, 36, 49, 64, 81, 100]"
      ]
     },
     "execution_count": 11,
     "metadata": {},
     "output_type": "execute_result"
    }
   ],
   "source": [
    "list(map( lambda x :x**2,l))"
   ]
  },
  {
   "cell_type": "code",
   "execution_count": 12,
   "id": "73ee0a2d-086f-4074-84f0-d1883a4567da",
   "metadata": {},
   "outputs": [],
   "source": [
    "#Q3)\n",
    "l2=[1, 2, 3, 4, 5, 6, 7, 8, 9, 10]"
   ]
  },
  {
   "cell_type": "code",
   "execution_count": 14,
   "id": "b7c22582-fcf0-4999-96c6-4f412fdd45cd",
   "metadata": {},
   "outputs": [
    {
     "data": {
      "text/plain": [
       "('1', '2', '3', '4', '5', '6', '7', '8', '9', '10')"
      ]
     },
     "execution_count": 14,
     "metadata": {},
     "output_type": "execute_result"
    }
   ],
   "source": [
    "tuple(map(lambda x : str(x),l2))"
   ]
  },
  {
   "cell_type": "code",
   "execution_count": 16,
   "id": "ca699136-e88a-4271-a0c7-c510851f4b0f",
   "metadata": {},
   "outputs": [],
   "source": [
    "#Q4)\n",
    "from functools import reduce"
   ]
  },
  {
   "cell_type": "code",
   "execution_count": 18,
   "id": "edcab636-b8b1-4986-8efb-cc8efbe617a2",
   "metadata": {},
   "outputs": [
    {
     "data": {
      "text/plain": [
       "15511210043330985984000000"
      ]
     },
     "execution_count": 18,
     "metadata": {},
     "output_type": "execute_result"
    }
   ],
   "source": [
    "reduce(lambda x,y:x*y,range(1,26))"
   ]
  },
  {
   "cell_type": "code",
   "execution_count": 19,
   "id": "12719df4-5d4f-4b3b-ac94-7760bb7aec00",
   "metadata": {},
   "outputs": [],
   "source": [
    "#Q5)\n",
    "l3=[2, 3, 6, 9, 27, 60, 90, 120, 55, 46]"
   ]
  },
  {
   "cell_type": "code",
   "execution_count": 26,
   "id": "6f5dd439-515b-4c61-b2c8-52c8c4576c75",
   "metadata": {},
   "outputs": [
    {
     "data": {
      "text/plain": [
       "[6, 60, 90, 120]"
      ]
     },
     "execution_count": 26,
     "metadata": {},
     "output_type": "execute_result"
    }
   ],
   "source": [
    "list(filter(lambda x : (x%2==0 and x%3==0),l3))"
   ]
  },
  {
   "cell_type": "code",
   "execution_count": 27,
   "id": "eee400f7-2353-4cd7-a2ec-23ebd6bb8725",
   "metadata": {},
   "outputs": [],
   "source": [
    "#Q6)\n",
    "\n",
    "l4=['python', 'php', 'aba', 'radar', 'level']"
   ]
  },
  {
   "cell_type": "code",
   "execution_count": 28,
   "id": "750588bb-6a26-42ab-b0b5-aea1563eec89",
   "metadata": {},
   "outputs": [
    {
     "data": {
      "text/plain": [
       "['php', 'aba', 'radar', 'level']"
      ]
     },
     "execution_count": 28,
     "metadata": {},
     "output_type": "execute_result"
    }
   ],
   "source": [
    "list(filter(lambda x:x==x[::-1],l4))"
   ]
  },
  {
   "cell_type": "code",
   "execution_count": null,
   "id": "f5ce90d1-f751-40f8-9669-890cdd6bdfd3",
   "metadata": {},
   "outputs": [],
   "source": []
  }
 ],
 "metadata": {
  "kernelspec": {
   "display_name": "Python 3 (ipykernel)",
   "language": "python",
   "name": "python3"
  },
  "language_info": {
   "codemirror_mode": {
    "name": "ipython",
    "version": 3
   },
   "file_extension": ".py",
   "mimetype": "text/x-python",
   "name": "python",
   "nbconvert_exporter": "python",
   "pygments_lexer": "ipython3",
   "version": "3.10.8"
  }
 },
 "nbformat": 4,
 "nbformat_minor": 5
}
