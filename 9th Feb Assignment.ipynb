{
 "cells": [
  {
   "cell_type": "markdown",
   "id": "d7893057-6e88-46e9-be36-4442d15753e9",
   "metadata": {},
   "source": [
    "Q1, Create a vehicle class with an init method having instance variables as name_of_vehicle, max_speed\n",
    "and average_of_vehicle.\n"
   ]
  },
  {
   "cell_type": "code",
   "execution_count": 1,
   "id": "895f78e8-81be-4fd6-8e7b-6c0a8c80b4a2",
   "metadata": {},
   "outputs": [],
   "source": [
    "class vehicle:\n",
    "    def __init__(self,name_of_vehicle,max_speed,average_of_vehicle):\n",
    "        self.name=name_of_vehicle\n",
    "        self.maxspeed=max_speed\n",
    "        self.avg = average_of_vehicle"
   ]
  },
  {
   "cell_type": "code",
   "execution_count": 2,
   "id": "d19c7902-f805-40ee-99f0-5c6b03b84bbd",
   "metadata": {},
   "outputs": [],
   "source": [
    "skoda = vehicle('Toyota',40,20)"
   ]
  },
  {
   "cell_type": "code",
   "execution_count": 7,
   "id": "a7d43e65-b316-4e00-9ec5-4e9286bbcef1",
   "metadata": {},
   "outputs": [
    {
     "data": {
      "text/plain": [
       "20"
      ]
     },
     "execution_count": 7,
     "metadata": {},
     "output_type": "execute_result"
    }
   ],
   "source": [
    "skoda.avg"
   ]
  },
  {
   "cell_type": "code",
   "execution_count": 8,
   "id": "b78df35d-730a-47de-9e03-1300a0716945",
   "metadata": {},
   "outputs": [
    {
     "data": {
      "text/plain": [
       "'Toyota'"
      ]
     },
     "execution_count": 8,
     "metadata": {},
     "output_type": "execute_result"
    }
   ],
   "source": [
    "skoda.name"
   ]
  },
  {
   "cell_type": "code",
   "execution_count": 9,
   "id": "2f0774d7-1d2e-491f-bc38-41a489984fed",
   "metadata": {},
   "outputs": [
    {
     "data": {
      "text/plain": [
       "40"
      ]
     },
     "execution_count": 9,
     "metadata": {},
     "output_type": "execute_result"
    }
   ],
   "source": [
    "skoda.maxspeed"
   ]
  },
  {
   "cell_type": "markdown",
   "id": "93e31fa1-f52a-4713-bb9b-51a4e5651290",
   "metadata": {},
   "source": [
    "Q2. Create a child class car from the vehicle class created in Que 1, which will inherit the vehicle class.\n",
    "Create a method named seating_capacity which takes capacity as an argument and returns the name of\n",
    "the vehicle and its seating capacity."
   ]
  },
  {
   "cell_type": "code",
   "execution_count": 10,
   "id": "b39076fc-ed41-431b-9562-e50b66fe96da",
   "metadata": {},
   "outputs": [],
   "source": [
    "class car(vehicle):\n",
    "    def seating_capacity(self,capacity):\n",
    "        return self.name,capacity"
   ]
  },
  {
   "cell_type": "code",
   "execution_count": 12,
   "id": "ca221bd8-56be-4910-b77c-b10b964dac93",
   "metadata": {},
   "outputs": [],
   "source": [
    "a = car('Toyota',40,20)"
   ]
  },
  {
   "cell_type": "code",
   "execution_count": 13,
   "id": "28110d66-259a-4439-a673-dfc86ebaf40e",
   "metadata": {},
   "outputs": [
    {
     "data": {
      "text/plain": [
       "('Toyota', 4)"
      ]
     },
     "execution_count": 13,
     "metadata": {},
     "output_type": "execute_result"
    }
   ],
   "source": [
    "a.seating_capacity(4)"
   ]
  },
  {
   "cell_type": "markdown",
   "id": "6b5aa10f-c918-465a-b891-d233e2a43957",
   "metadata": {},
   "source": [
    "Q3. What is multiple inheritance? Write a python code to demonstrate multiple inheritance."
   ]
  },
  {
   "cell_type": "markdown",
   "id": "9a0927e6-b945-49a9-bd87-7ddd34b5c72e",
   "metadata": {},
   "source": [
    "Ans:- Multiple inheritance means a class inheriting properties from various classes but neither of them are related"
   ]
  },
  {
   "cell_type": "code",
   "execution_count": 15,
   "id": "17b12691-7476-4db2-951f-178fd5e71335",
   "metadata": {},
   "outputs": [],
   "source": [
    "class class1:\n",
    "    def testclass1(self):\n",
    "        return \"Hi this is class1 prop\""
   ]
  },
  {
   "cell_type": "code",
   "execution_count": 16,
   "id": "a51c3389-ce84-4930-98b6-532488a7d72c",
   "metadata": {},
   "outputs": [],
   "source": [
    "class class2:\n",
    "    def testclass2(self):\n",
    "        return \"Hi this is class2 prop\""
   ]
  },
  {
   "cell_type": "code",
   "execution_count": 17,
   "id": "23ce2577-d99f-40c8-a43c-0cd4c7cd594b",
   "metadata": {},
   "outputs": [],
   "source": [
    "class class3(class1,class2):\n",
    "    pass"
   ]
  },
  {
   "cell_type": "code",
   "execution_count": 20,
   "id": "bc0318b0-4b44-4f49-9d98-a7e9242e6967",
   "metadata": {},
   "outputs": [],
   "source": [
    "a = class3()"
   ]
  },
  {
   "cell_type": "code",
   "execution_count": 21,
   "id": "423e2167-e4c5-4149-9783-31ffd3dc6cdc",
   "metadata": {},
   "outputs": [
    {
     "data": {
      "text/plain": [
       "'Hi this is class1 prop'"
      ]
     },
     "execution_count": 21,
     "metadata": {},
     "output_type": "execute_result"
    }
   ],
   "source": [
    "a.testclass1()"
   ]
  },
  {
   "cell_type": "code",
   "execution_count": 22,
   "id": "f73ca2be-0610-4828-880b-18621cfeea62",
   "metadata": {},
   "outputs": [
    {
     "data": {
      "text/plain": [
       "'Hi this is class2 prop'"
      ]
     },
     "execution_count": 22,
     "metadata": {},
     "output_type": "execute_result"
    }
   ],
   "source": [
    "a.testclass2()"
   ]
  },
  {
   "cell_type": "markdown",
   "id": "84ac0334-2f1b-48b3-861f-c63784d1dc7c",
   "metadata": {},
   "source": [
    "Q4. What are getter and setter in python? Create a class and create a getter and a setter method in this\n",
    "class."
   ]
  },
  {
   "cell_type": "code",
   "execution_count": 23,
   "id": "5ead7f99-2f3a-486e-8181-c9138fb385c0",
   "metadata": {},
   "outputs": [],
   "source": [
    "class password:\n",
    "    def __init__(self,password):\n",
    "        self.__password=password\n",
    "    \n",
    "    def set_newpassword(self,newpassword):\n",
    "        if newpassword!=self.__password:\n",
    "            self.__password = newpassword\n",
    "            return \"Password changed succesfully\"\n",
    "        else:\n",
    "            return \"Old password and new password cannot be same\"\n",
    "    def get_password(self):\n",
    "        return self.__password"
   ]
  },
  {
   "cell_type": "code",
   "execution_count": 25,
   "id": "f6fd7d76-70f9-4eac-ab81-9fefe71e5187",
   "metadata": {},
   "outputs": [],
   "source": [
    "pw = password('Hello')"
   ]
  },
  {
   "cell_type": "code",
   "execution_count": 29,
   "id": "84b2a7fd-af04-4696-9574-4c3f24136571",
   "metadata": {},
   "outputs": [
    {
     "data": {
      "text/plain": [
       "'Password changed succesfully'"
      ]
     },
     "execution_count": 29,
     "metadata": {},
     "output_type": "execute_result"
    }
   ],
   "source": [
    "pw.set_newpassword('Hello12')"
   ]
  },
  {
   "cell_type": "code",
   "execution_count": 30,
   "id": "8b22bf3a-7336-43f0-8996-c385d589cef4",
   "metadata": {},
   "outputs": [
    {
     "data": {
      "text/plain": [
       "'Hello12'"
      ]
     },
     "execution_count": 30,
     "metadata": {},
     "output_type": "execute_result"
    }
   ],
   "source": [
    "pw.get_password()"
   ]
  },
  {
   "cell_type": "code",
   "execution_count": null,
   "id": "60d002e7-f24d-48bb-941e-4e9814da86d9",
   "metadata": {},
   "outputs": [],
   "source": []
  }
 ],
 "metadata": {
  "kernelspec": {
   "display_name": "Python 3 (ipykernel)",
   "language": "python",
   "name": "python3"
  },
  "language_info": {
   "codemirror_mode": {
    "name": "ipython",
    "version": 3
   },
   "file_extension": ".py",
   "mimetype": "text/x-python",
   "name": "python",
   "nbconvert_exporter": "python",
   "pygments_lexer": "ipython3",
   "version": "3.10.8"
  }
 },
 "nbformat": 4,
 "nbformat_minor": 5
}
